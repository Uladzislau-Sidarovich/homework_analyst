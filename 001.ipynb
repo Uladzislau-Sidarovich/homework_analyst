{
 "cells": [
  {
   "cell_type": "markdown",
   "source": [
    "# Task 1\n",
    "## 1 Оформляйте ноутбук, используя эти советы:\n",
    "## Номер задачи - заголовок 2\n",
    "## Номер подзадачи - заголовок 3\n",
    "## 1.2 Предоставленные наборы данных оформляйте, как код\n",
    "## 1.3 Рекомендации для преподавателей по оценке задания:\n",
    "## Смотреть, чтобы студент красиво оформлял ноутбук, использовал ячейки с текстом, указывал номера заданий"
   ],
   "metadata": {
    "collapsed": false
   },
   "id": "d4bb9625c1d10719"
  },
  {
   "cell_type": "markdown",
   "source": [
    "# Task 2\n",
    "## 2 На складе лежат разные фрукты в разном количестве.\n",
    "## 2.1 Нужно написать функцию, которая на вход принимает любое количество названий фруктов и их количество, а возвращает общее количество фруктов на складе"
   ],
   "metadata": {
    "collapsed": false
   },
   "id": "28c797d8a4c095c8"
  },
  {
   "cell_type": "code",
   "execution_count": 4,
   "outputs": [],
   "source": [
    "def calculate_total_fruits(*args):\n",
    "    total_fruits = 0\n",
    "    for fruit, quantity in args:\n",
    "        total_fruits += quantity\n",
    "    return total_fruits\n",
    "\n",
    "total_fruits = calculate_total_fruits(('яблоки', 10), ('апельсины', 15), ('бананы', 20))\n",
    "print(\"Общее количество фруктов на складе:\", total_fruits)"
   ],
   "metadata": {
    "collapsed": false,
    "ExecuteTime": {
     "end_time": "2023-09-23T18:40:56.391942Z",
     "start_time": "2023-09-23T18:40:56.379945900Z"
    }
   },
   "id": "46e64c0ba22e76a3"
  },
  {
   "cell_type": "markdown",
   "source": [
    "# Task 3\n",
    "## 3 Дан список с затратами на рекламу. Но в данных есть ошибки, некоторые затраты имеют отрицательную величину. Удалите такие значения из списка и посчитайте суммарные затраты\n",
    "[100, 125, -90, 345, 655, -1, 0, 200]\n",
    "## 3.1 Используйте list comprehensions "
   ],
   "metadata": {
    "collapsed": false
   },
   "id": "f9a576c13f56a330"
  },
  {
   "cell_type": "code",
   "execution_count": 6,
   "outputs": [
    {
     "data": {
      "text/plain": "1425"
     },
     "execution_count": 6,
     "metadata": {},
     "output_type": "execute_result"
    }
   ],
   "source": [
    "затраты = [100, 125, -90, 345, 655, -1, 0, 200]\n",
    "очищенные_затраты = [затрата for затрата in затраты if затрата >= 0]\n",
    "суммарные_затраты = sum(очищенные_затраты)\n",
    "суммарные_затраты"
   ],
   "metadata": {
    "collapsed": false,
    "ExecuteTime": {
     "end_time": "2023-09-23T18:43:54.259268500Z",
     "start_time": "2023-09-23T18:43:54.213175Z"
    }
   },
   "id": "8d4091debcdb8711"
  },
  {
   "cell_type": "markdown",
   "source": [
    "# Task 4\n",
    "## 4 Даны два списка.\n",
    "## Дата покупки\n",
    "## ['2021-09-14', '2021-12-15', '2021-09-08', '2021-12-05', '2021-10-09', '2021-09-30', '2021-12-22', '2021-11-29', '2021-12-24', '2021-11-26', '2021-10-27', '2021-12-18', '2021-11-09', '2021-11-23', '2021-09-27', '2021-10-02', '2021-12-27', '2021-09-20', '2021-12-13', '2021-11-01', '2021-11-09', '2021-12-06', '2021-12-08', '2021-10-09', '2021-10-31', '2021-09-30', '2021-11-09', '2021-12-13', '2021-10-26', '2021-12-09']\n",
    "## Суммы покупок по датам\n",
    "## [1270, 8413, 9028, 3703, 5739, 4095, 295, 4944, 5723, 3701, 4471, 651, 7037, 4274, 6275, 4988, 6930, 2971, 6592, 2004, 2822, 519, 3406, 2732, 5015, 2008, 316, 6333, 5700, 2887]\n",
    "## 4.1 Найдите, какая выручка у компании в ноябре\n",
    "## Используйте list comprehensions\n",
    "## 4.2 Найдите выручку компании в зависимости от месяца\n",
    "## Для этого напишите функцию, которая на вход принимает список с датами и список с выручкой, а на выходе словарь, где ключи - это месяцы, а значения - это выручка.\n",
    "## Используйте аннотирование типов."
   ],
   "metadata": {
    "collapsed": false
   },
   "id": "1b644dbf5446869a"
  },
  {
   "cell_type": "code",
   "execution_count": 11,
   "outputs": [
    {
     "name": "stdout",
     "output_type": "stream",
     "text": [
      "Выручка компании в ноябре: 25098\n",
      "Выручка компании по месяцам:  {'09': 25647, '12': 45452, '10': 28645, '11': 25098}\n"
     ]
    }
   ],
   "source": [
    "from typing import List, Dict\n",
    "\n",
    "\n",
    "dates = ['2021-09-14', '2021-12-15', '2021-09-08', '2021-12-05', '2021-10-09', '2021-09-30', '2021-12-22', '2021-11-29', '2021-12-24', '2021-11-26', '2021-10-27', '2021-12-18', '2021-11-09', '2021-11-23', '2021-09-27', '2021-10-02', '2021-12-27', '2021-09-20', '2021-12-13', '2021-11-01', '2021-11-09', '2021-12-06', '2021-12-08', '2021-10-09', '2021-10-31', '2021-09-30', '2021-11-09', '2021-12-13', '2021-10-26', '2021-12-09']\n",
    "revenues = [1270, 8413, 9028, 3703, 5739, 4095, 295, 4944, 5723, 3701, 4471, 651, 7037, 4274, 6275, 4988, 6930, 2971, 6592, 2004, 2822, 519, 3406, 2732, 5015, 2008, 316, 6333, 5700, 2887]\n",
    "\n",
    "\n",
    "november_revenue = sum([revenue for date, revenue in zip(dates, revenues) if date.startswith('2021-11')])\n",
    "print(\"Выручка компании в ноябре:\", november_revenue)\n",
    "\n",
    "\n",
    "def calculate_monthly_revenue(dates: List[str], revenues: List[int]) -> Dict[str, int]:\n",
    "    monthly_revenue = {}\n",
    "    for date, revenue in zip(dates, revenues):\n",
    "        month = date.split('-')[1]\n",
    "        if month in monthly_revenue:\n",
    "            monthly_revenue[month] += revenue\n",
    "        else:\n",
    "            monthly_revenue[month] = revenue\n",
    "    return monthly_revenue\n",
    "\n",
    "monthly_revenue_dict = calculate_monthly_revenue(dates, revenues)\n",
    "print(\"Выручка компании по месяцам: \", monthly_revenue_dict)\n"
   ],
   "metadata": {
    "collapsed": false,
    "ExecuteTime": {
     "end_time": "2023-09-23T18:48:16.622913700Z",
     "start_time": "2023-09-23T18:48:16.614687300Z"
    }
   },
   "id": "ef17cfb84ab742ad"
  }
 ],
 "metadata": {
  "kernelspec": {
   "display_name": "Python 3",
   "language": "python",
   "name": "python3"
  },
  "language_info": {
   "codemirror_mode": {
    "name": "ipython",
    "version": 2
   },
   "file_extension": ".py",
   "mimetype": "text/x-python",
   "name": "python",
   "nbconvert_exporter": "python",
   "pygments_lexer": "ipython2",
   "version": "2.7.6"
  }
 },
 "nbformat": 4,
 "nbformat_minor": 5
}
